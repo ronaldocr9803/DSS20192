{
 "nbformat": 4,
 "nbformat_minor": 2,
 "metadata": {
  "language_info": {
   "name": "python",
   "codemirror_mode": {
    "name": "ipython",
    "version": 3
   },
   "version": "3.7.4-final"
  },
  "orig_nbformat": 2,
  "file_extension": ".py",
  "mimetype": "text/x-python",
  "name": "python",
  "npconvert_exporter": "python",
  "pygments_lexer": "ipython3",
  "version": 3,
  "kernelspec": {
   "name": "python3",
   "display_name": "Python 3"
  }
 },
 "cells": [
  {
   "cell_type": "code",
   "execution_count": 4,
   "metadata": {},
   "outputs": [],
   "source": [
    "import pandas as pd\n",
    "import seaborn as sns\n",
    "import matplotlib.pyplot as plt"
   ]
  },
  {
   "cell_type": "code",
   "execution_count": 2,
   "metadata": {},
   "outputs": [
    {
     "data": {
      "text/html": "<div>\n<style scoped>\n    .dataframe tbody tr th:only-of-type {\n        vertical-align: middle;\n    }\n\n    .dataframe tbody tr th {\n        vertical-align: top;\n    }\n\n    .dataframe thead th {\n        text-align: right;\n    }\n</style>\n<table border=\"1\" class=\"dataframe\">\n  <thead>\n    <tr style=\"text-align: right;\">\n      <th></th>\n      <th>Unnamed: 0</th>\n      <th>County</th>\n      <th>State</th>\n      <th>LandArea</th>\n      <th>Population</th>\n      <th>Pecent18to34</th>\n      <th>PercentOver65</th>\n      <th>NumOfPhysicians</th>\n      <th>NumOfHospitalBeds</th>\n      <th>TotalSeriousCrimes</th>\n      <th>PercentHSGraduates</th>\n      <th>PercentWithBachelors</th>\n      <th>PercentBelowPoverty</th>\n      <th>PercentUnemployment</th>\n      <th>PerCapitaIncome</th>\n      <th>TotalPersonalIncome</th>\n    </tr>\n  </thead>\n  <tbody>\n    <tr>\n      <th>0</th>\n      <td>1</td>\n      <td>Los_Angeles</td>\n      <td>CA</td>\n      <td>4060</td>\n      <td>8863164</td>\n      <td>32.1</td>\n      <td>9.7</td>\n      <td>23677</td>\n      <td>27700</td>\n      <td>688936</td>\n      <td>70.0</td>\n      <td>22.3</td>\n      <td>11.6</td>\n      <td>8.0</td>\n      <td>20786</td>\n      <td>184230</td>\n    </tr>\n    <tr>\n      <th>1</th>\n      <td>2</td>\n      <td>Cook</td>\n      <td>IL</td>\n      <td>946</td>\n      <td>5105067</td>\n      <td>29.2</td>\n      <td>12.4</td>\n      <td>15153</td>\n      <td>21550</td>\n      <td>436936</td>\n      <td>73.4</td>\n      <td>22.8</td>\n      <td>11.1</td>\n      <td>7.2</td>\n      <td>21729</td>\n      <td>110928</td>\n    </tr>\n    <tr>\n      <th>2</th>\n      <td>3</td>\n      <td>Harris</td>\n      <td>TX</td>\n      <td>1729</td>\n      <td>2818199</td>\n      <td>31.3</td>\n      <td>7.1</td>\n      <td>7553</td>\n      <td>12449</td>\n      <td>253526</td>\n      <td>74.9</td>\n      <td>25.4</td>\n      <td>12.5</td>\n      <td>5.7</td>\n      <td>19517</td>\n      <td>55003</td>\n    </tr>\n    <tr>\n      <th>3</th>\n      <td>4</td>\n      <td>San_Diego</td>\n      <td>CA</td>\n      <td>4205</td>\n      <td>2498016</td>\n      <td>33.5</td>\n      <td>10.9</td>\n      <td>5905</td>\n      <td>6179</td>\n      <td>173821</td>\n      <td>81.9</td>\n      <td>25.3</td>\n      <td>8.1</td>\n      <td>6.1</td>\n      <td>19588</td>\n      <td>48931</td>\n    </tr>\n    <tr>\n      <th>4</th>\n      <td>5</td>\n      <td>Orange</td>\n      <td>CA</td>\n      <td>790</td>\n      <td>2410556</td>\n      <td>32.6</td>\n      <td>9.2</td>\n      <td>6062</td>\n      <td>6369</td>\n      <td>144524</td>\n      <td>81.2</td>\n      <td>27.8</td>\n      <td>5.2</td>\n      <td>4.8</td>\n      <td>24400</td>\n      <td>58818</td>\n    </tr>\n  </tbody>\n</table>\n</div>",
      "text/plain": "   Unnamed: 0       County State  LandArea  Population  Pecent18to34  \\\n0           1  Los_Angeles    CA      4060     8863164          32.1   \n1           2         Cook    IL       946     5105067          29.2   \n2           3       Harris    TX      1729     2818199          31.3   \n3           4    San_Diego    CA      4205     2498016          33.5   \n4           5       Orange    CA       790     2410556          32.6   \n\n   PercentOver65  NumOfPhysicians  NumOfHospitalBeds  TotalSeriousCrimes  \\\n0            9.7            23677              27700              688936   \n1           12.4            15153              21550              436936   \n2            7.1             7553              12449              253526   \n3           10.9             5905               6179              173821   \n4            9.2             6062               6369              144524   \n\n   PercentHSGraduates  PercentWithBachelors  PercentBelowPoverty  \\\n0                70.0                  22.3                 11.6   \n1                73.4                  22.8                 11.1   \n2                74.9                  25.4                 12.5   \n3                81.9                  25.3                  8.1   \n4                81.2                  27.8                  5.2   \n\n   PercentUnemployment  PerCapitaIncome  TotalPersonalIncome  \n0                  8.0            20786               184230  \n1                  7.2            21729               110928  \n2                  5.7            19517                55003  \n3                  6.1            19588                48931  \n4                  4.8            24400                58818  "
     },
     "execution_count": 2,
     "metadata": {},
     "output_type": "execute_result"
    }
   ],
   "source": [
    "df = pd.read_csv('data.csv')\n",
    "df.head()"
   ]
  },
  {
   "cell_type": "code",
   "execution_count": null,
   "metadata": {},
   "outputs": [],
   "source": []
  },
  {
   "cell_type": "code",
   "execution_count": 9,
   "metadata": {},
   "outputs": [],
   "source": [
    "sns.pa"
   ]
  }
 ]
}